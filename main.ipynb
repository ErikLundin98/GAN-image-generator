{
 "cells": [
  {
   "cell_type": "code",
   "execution_count": null,
   "metadata": {
    "tags": []
   },
   "outputs": [],
   "source": [
    "n_pokemon = 898\r\n",
    "# Download all pokemons, save to directory\r\n",
    "import requests\r\n",
    "import shutil\r\n",
    "import os\r\n",
    "from multiprocessing.pool import ThreadPool\r\n",
    "img_urls = ['https://www.serebii.net/pokedex-swsh/icon/','.png']\r\n",
    "save_dir = 'downloads'\r\n",
    "\r\n",
    "def download_img(url, save_path):\r\n",
    "    re = requests.get(url, stream=True)\r\n",
    "    if(re.status_code==200):\r\n",
    "        with open(save_path, 'wb') as f:\r\n",
    "            re.raw.decode_content = True\r\n",
    "            shutil.copyfileobj(re.raw, f)\r\n",
    "\r\n",
    "def download_img_wrapper(i):\r\n",
    "    download_img(img_urls[0]+str(i+1).zfill(3)+img_urls[1],\r\n",
    "                 os.path.join(os.getcwd(), save_dir, '{}.png'.format(i)))\r\n",
    "\r\n",
    "pokemon_indices = [i for i in range(n_pokemon)]\r\n",
    "ThreadPool(5).imap_unordered(download_img_wrapper, pokemon_indices)\r\n",
    "#for i in range(n_pokemon):\r\n",
    "#    img_url = img_urls[0]+str(i+1).zfill(3)+img_urls[1]\r\n",
    "#    re = requests.get(img_url, stream=True)\r\n",
    "#    if(re.status_code==200):\r\n",
    "#        save_path = os.path.join(os.getcwd(), save_dir, '{}.png'.format(i))\r\n",
    "#        with open(save_path, 'wb') as f:\r\n",
    "#            re.raw.decode_content = True\r\n",
    "#            shutil.copyfileobj(re.raw, f)\r\n"
   ]
  },
  {
   "cell_type": "code",
   "execution_count": 1,
   "metadata": {},
   "outputs": [
    {
     "name": "stdout",
     "output_type": "stream",
     "text": [
      "PyTorch built with:\n",
      "  - C++ Version: 199711\n",
      "  - MSVC 192829337\n",
      "  - Intel(R) Math Kernel Library Version 2020.0.2 Product Build 20200624 for Intel(R) 64 architecture applications\n",
      "  - Intel(R) MKL-DNN v2.1.2 (Git Hash 98be7e8afa711dc9b66c8ff3504129cb82013cdb)\n",
      "  - OpenMP 2019\n",
      "  - CPU capability usage: AVX2\n",
      "  - Build settings: BLAS_INFO=mkl, BUILD_TYPE=Release, CXX_COMPILER=C:/w/b/windows/tmp_bin/sccache-cl.exe, CXX_FLAGS=/DWIN32 /D_WINDOWS /GR /EHsc /w /bigobj -DUSE_PTHREADPOOL -openmp:experimental -IC:/w/b/windows/mkl/include -DNDEBUG -DUSE_KINETO -DLIBKINETO_NOCUPTI -DUSE_FBGEMM -DUSE_XNNPACK -DSYMBOLICATE_MOBILE_DEBUG_HANDLE, LAPACK_INFO=mkl, PERF_WITH_AVX=1, PERF_WITH_AVX2=1, PERF_WITH_AVX512=1, TORCH_VERSION=1.9.0, USE_CUDA=0, USE_CUDNN=OFF, USE_EXCEPTION_PTR=1, USE_GFLAGS=OFF, USE_GLOG=OFF, USE_MKL=ON, USE_MKLDNN=ON, USE_MPI=OFF, USE_NCCL=OFF, USE_NNPACK=OFF, USE_OPENMP=ON, \n",
      "\n",
      "<attribute 'type' of 'torch.device' objects>\n"
     ]
    }
   ],
   "source": [
    "import torch\r\n",
    "print(*torch.__config__.show().split(\"\\n\"), sep=\"\\n\")\r\n",
    "print(torch.device.type)"
   ]
  },
  {
   "cell_type": "code",
   "execution_count": 2,
   "metadata": {},
   "outputs": [],
   "source": [
    "# Parameters\r\n",
    "\r\n",
    "n_pokemon = 898\r\n",
    "# hyperparameters\r\n",
    "\r\n",
    "SEED_SIZE = 16 # latent variable\r\n",
    "DEVICE = 'cpu'\r\n",
    "BATCH_SIZE = 32\r\n",
    "IMAGE_SIZE = 64"
   ]
  },
  {
   "cell_type": "code",
   "execution_count": null,
   "metadata": {},
   "outputs": [],
   "source": [
    "# torch ImageFolder does not support alpha, and we want to convert the fully transparent\r\n",
    "# parts to white:\r\n",
    "from PIL import Image\r\n",
    "\r\n",
    "for i in range(0, n_pokemon):\r\n",
    "    png = Image.open('downloads/{}.png'.format(i)).convert('RGBA')\r\n",
    "    background = Image.new('RGBA', png.size, (0, 0, 0))\r\n",
    "    alpha_composite = Image.alpha_composite(background, png)\r\n",
    "    alpha_composite.save('raw_dataset/class/{}.png'.format(i), 'PNG', quality=100)"
   ]
  },
  {
   "cell_type": "code",
   "execution_count": 4,
   "metadata": {},
   "outputs": [
    {
     "name": "stdout",
     "output_type": "stream",
     "text": [
      "59 52\n"
     ]
    }
   ],
   "source": [
    "# Get maximum dimensions for the images to determine input dimensions\r\n",
    "from PIL import Image\r\n",
    "import os.path\r\n",
    "\r\n",
    "MAX_WIDTH = 0\r\n",
    "MAX_HEIGHT = 0\r\n",
    "for i in range(n_pokemon):\r\n",
    "    filename = os.path.join('raw_dataset', 'class', '{}.png'.format(i))\r\n",
    "    img = Image.open(filename)\r\n",
    "    MAX_WIDTH = max(img.size[0], MAX_WIDTH)\r\n",
    "    MAX_HEIGHT = max(img.size[1], MAX_HEIGHT)\r\n",
    "\r\n",
    "print(MAX_WIDTH, MAX_HEIGHT)\r\n"
   ]
  },
  {
   "cell_type": "code",
   "execution_count": 3,
   "metadata": {},
   "outputs": [],
   "source": [
    "import torch\r\n",
    "import numpy as np\r\n",
    "\r\n",
    "class PadToSize:\r\n",
    "\tdef __init__(self, width, height):\r\n",
    "\t\tself.width = width\r\n",
    "\t\tself.height = height\r\n",
    "\tdef __call__(self, image):\r\n",
    "\t\th = image.shape[1]\r\n",
    "\t\tw = image.shape[2]\r\n",
    "\t\tdiff_h = self.height-h\r\n",
    "\t\tdiff_w = self.width-w\r\n",
    "\t\tph1 = diff_h//2\r\n",
    "\t\tph2 = diff_h - ph1\r\n",
    "\t\tpw1 = diff_w//2\r\n",
    "\t\tpw2 = diff_w - pw1\r\n",
    "\t\t#image = np.where(image==0, 255, image)\r\n",
    "\t\treturn torch.from_numpy(np.pad(image, pad_width=((0, 0),(ph1, ph2),(pw1, pw2)), mode='constant', constant_values=0)) # whiten"
   ]
  },
  {
   "cell_type": "code",
   "execution_count": 4,
   "metadata": {},
   "outputs": [],
   "source": [
    "# create and load the dataset\r\n",
    "from torchvision import transforms, datasets\r\n",
    "from torch.utils.data import ConcatDataset\r\n",
    "import torch\r\n",
    "import os\r\n",
    "\r\n",
    "IMAGE_SIZE = 64\r\n",
    "\r\n",
    "data_folder = os.path.join(os.getcwd(),'raw_dataset')\r\n",
    "dataset = datasets.ImageFolder(data_folder, transform=transforms.Compose([\r\n",
    "    transforms.ToTensor(),\r\n",
    "    PadToSize(IMAGE_SIZE, IMAGE_SIZE),\r\n",
    "    transforms.Normalize((0.5, 0.5, 0.5), (0.5, 0.5, 0.5)),\r\n",
    "    \r\n",
    "]))\r\n",
    "mirrored_dataset = datasets.ImageFolder(data_folder, transform=transforms.Compose([\r\n",
    "    transforms.RandomHorizontalFlip(p=1.0),\r\n",
    "    transforms.ToTensor(),\r\n",
    "    PadToSize(IMAGE_SIZE, IMAGE_SIZE),\r\n",
    "    transforms.Normalize((0.5, 0.5, 0.5), (0.5, 0.5, 0.5)),\r\n",
    "    \r\n",
    "]))\r\n",
    "color_jittered_dataset = datasets.ImageFolder(data_folder, transform=transforms.Compose([\r\n",
    "    transforms.ToTensor(),\r\n",
    "    PadToSize(IMAGE_SIZE, IMAGE_SIZE),\r\n",
    "    transforms.ColorJitter(0.5, 0.5, 0.5),\r\n",
    "    transforms.Normalize((0.5, 0.5, 0.5), (0.5, 0.5, 0.5)),\r\n",
    "    \r\n",
    "]))\r\n",
    "color_jitter_flipped_dataset = datasets.ImageFolder(data_folder, transform=transforms.Compose([\r\n",
    "    transforms.RandomHorizontalFlip(p=1.0),\r\n",
    "    transforms.ToTensor(),\r\n",
    "    PadToSize(IMAGE_SIZE, IMAGE_SIZE),\r\n",
    "    transforms.ColorJitter(0.5, 0.5, 0.5),\r\n",
    "    transforms.Normalize((0.5, 0.5, 0.5), (0.5, 0.5, 0.5)),\r\n",
    "    \r\n",
    "]))\r\n",
    "\r\n",
    "combined = ConcatDataset([dataset, mirrored_dataset, color_jittered_dataset, color_jitter_flipped_dataset])\r\n",
    "\r\n",
    "dataloader = torch.utils.data.DataLoader(combined, BATCH_SIZE, shuffle=True)"
   ]
  },
  {
   "cell_type": "code",
   "execution_count": 5,
   "metadata": {},
   "outputs": [
    {
     "data": {
      "text/plain": [
       "(array([10713,     0,     0,    11,   274,   177,   149,    86,   155,\n",
       "          723], dtype=int64),\n",
       " array([-1. , -0.8, -0.6, -0.4, -0.2,  0. ,  0.2,  0.4,  0.6,  0.8,  1. ],\n",
       "       dtype=float32))"
      ]
     },
     "execution_count": 5,
     "metadata": {},
     "output_type": "execute_result"
    },
    {
     "data": {
      "image/png": "[encoded data removed]",
      "text/plain": [
       "<Figure size 432x288 with 1 Axes>"
      ]
     },
     "metadata": {
      "needs_background": "light"
     },
     "output_type": "display_data"
    }
   ],
   "source": [
    "%matplotlib inline\r\n",
    "import matplotlib.pyplot as plt\r\n",
    "\r\n",
    "def normalize(data):\r\n",
    "    return (data - np.min(data)) / np.ptp(data)\r\n",
    "\r\n",
    "def show(img, save=False, path=None):\r\n",
    "    if type(img) is not np.ndarray:\r\n",
    "        img = img.numpy()\r\n",
    "    img = normalize(img)\r\n",
    "    plt.imshow(np.transpose(img, (1,2,0)), vmin=-1, vmax=1)\r\n",
    "    if save:\r\n",
    "        plt.savefig(path)\r\n",
    "\r\n",
    "sample = next(iter(dataloader))[0][0]\r\n",
    "# show a random image\r\n",
    "show(sample)\r\n",
    "# get tensor shape\r\n",
    "np.histogram(sample)"
   ]
  },
  {
   "cell_type": "code",
   "execution_count": 6,
   "metadata": {},
   "outputs": [],
   "source": [
    "\r\n",
    "class Discriminator(torch.nn.Module):\r\n",
    "    def __init__(self):\r\n",
    "        super(Discriminator, self).__init__()\r\n",
    "        self.input_stack = torch.nn.Sequential(\r\n",
    "            torch.nn.Conv2d(3, IMAGE_SIZE, kernel_size=4, stride=2, padding=1, bias=False),\r\n",
    "            torch.nn.BatchNorm2d(64),\r\n",
    "            torch.nn.LeakyReLU(0.2, inplace=True),\r\n",
    "        ) # 64x32x32\r\n",
    "        self.stack0 = torch.nn.Sequential(\r\n",
    "            torch.nn.Conv2d(64, 128, kernel_size=4, stride=2, padding=1, bias=False),\r\n",
    "            torch.nn.BatchNorm2d(128),\r\n",
    "            torch.nn.LeakyReLU(0.2, inplace=True),\r\n",
    "        ) # 128x16x16\r\n",
    "        self.stack1 = torch.nn.Sequential(\r\n",
    "            torch.nn.Conv2d(128, 128, kernel_size=4, stride=2, padding=1, bias=False),\r\n",
    "            torch.nn.BatchNorm2d(128),\r\n",
    "            torch.nn.LeakyReLU(0.2, inplace=True),\r\n",
    "        ) # 128x8x8\r\n",
    "        self.stack2 = torch.nn.Sequential(\r\n",
    "            torch.nn.Conv2d(128, 128, kernel_size=4, stride=2, padding=1, bias=False),\r\n",
    "            torch.nn.BatchNorm2d(128),\r\n",
    "            torch.nn.LeakyReLU(0.2, inplace=True),\r\n",
    "        ) # 128x4x4\r\n",
    "        self.output = torch.nn.Sequential(\r\n",
    "            torch.nn.Conv2d(128, 1, kernel_size=4, stride=1, padding=0, bias=False),\r\n",
    "            torch.nn.Flatten(),\r\n",
    "            torch.nn.Sigmoid()\r\n",
    "        )\r\n",
    "\r\n",
    "    def forward(self, x):\r\n",
    "        x = self.input_stack(x)\r\n",
    "        x = self.stack0(x)\r\n",
    "        x = self.stack1(x)\r\n",
    "        x = self.stack2(x)\r\n",
    "        x = self.output(x)\r\n",
    "        return x\r\n",
    "\r\n"
   ]
  },
  {
   "cell_type": "code",
   "execution_count": 7,
   "metadata": {},
   "outputs": [],
   "source": [
    "class Generator(torch.nn.Module):\r\n",
    "    def __init__(self):\r\n",
    "        super(Generator, self).__init__()\r\n",
    "        self.input_stack = torch.nn.Sequential(\r\n",
    "            torch.nn.ConvTranspose2d(SEED_SIZE, 128, kernel_size=4, padding=0, stride=1, bias=False),\r\n",
    "            torch.nn.BatchNorm2d(128),\r\n",
    "            torch.nn.ReLU(True),\r\n",
    "        ) # 64x32x32\r\n",
    "        self.stack0 = torch.nn.Sequential(\r\n",
    "            torch.nn.ConvTranspose2d(128, 128, kernel_size=4, padding=1, stride=2, bias=False),\r\n",
    "            torch.nn.BatchNorm2d(128),\r\n",
    "            torch.nn.ReLU(True),\r\n",
    "        ) # 128x16x16\r\n",
    "        self.stack1 = torch.nn.Sequential(\r\n",
    "            torch.nn.ConvTranspose2d(128, 128, kernel_size=4, padding=1, stride=2, bias=False),\r\n",
    "            torch.nn.BatchNorm2d(128),\r\n",
    "            torch.nn.ReLU(True),\r\n",
    "        ) # 128x8x8\r\n",
    "        self.stack2 = torch.nn.Sequential(\r\n",
    "            torch.nn.ConvTranspose2d(128, 64, kernel_size=4, padding=1, stride=2, bias=False),\r\n",
    "            torch.nn.BatchNorm2d(64),\r\n",
    "            torch.nn.ReLU(True),\r\n",
    "        ) # 128x4x4\r\n",
    "        self.output = torch.nn.Sequential(\r\n",
    "            torch.nn.ConvTranspose2d(64, 3, kernel_size=4, padding=1, stride=2, bias=False),\r\n",
    "            torch.nn.Tanh()\r\n",
    "        )\r\n",
    "\r\n",
    "    def forward(self, x):\r\n",
    "        x = self.input_stack(x)\r\n",
    "        x = self.stack0(x)\r\n",
    "        x = self.stack1(x)\r\n",
    "        x = self.stack2(x)\r\n",
    "        x = self.output(x)\r\n",
    "        return x\r\n"
   ]
  },
  {
   "cell_type": "code",
   "execution_count": 8,
   "metadata": {},
   "outputs": [],
   "source": [
    "def train_discriminator(discriminator, generator, real_pokemon, optimizer):\n",
    "    optimizer.zero_grad()\n",
    "    real_predictions = discriminator(real_pokemon)\n",
    "    real_labels = torch.rand(real_pokemon.size(0), 1, device=DEVICE)*0.1\n",
    "    real_loss = torch.nn.functional.binary_cross_entropy(real_predictions, real_labels)\n",
    "    real_score = torch.mean(real_predictions).item()\n",
    "\n",
    "    latent_seeds = torch.randn(BATCH_SIZE, SEED_SIZE, 1, 1, device=DEVICE)\n",
    "    fake_pokemon = generator(latent_seeds)\n",
    "    fake_predictions = discriminator(fake_pokemon)\n",
    "    fake_labels = torch.rand(fake_pokemon.size(0), 1, device=DEVICE)*0.1 + 0.9\n",
    "    fake_loss = torch.nn.functional.binary_cross_entropy(fake_predictions, fake_labels)\n",
    "    fake_score = torch.mean(fake_predictions).item()\n",
    "\n",
    "    total_loss = real_loss + fake_loss\n",
    "    total_loss.backward()\n",
    "    optimizer.step()\n",
    "\n",
    "    return total_loss.item(), real_score, fake_score\n",
    "\n",
    "def train_generator(generator, discriminator, optimizer):\n",
    "   \n",
    "    optimizer.zero_grad()\n",
    "    \n",
    "    latent_seeds = torch.randn(BATCH_SIZE, SEED_SIZE, 1, 1, device=DEVICE)\n",
    "    fake_pokemon = generator(latent_seeds)\n",
    "\n",
    "    discriminator_predictions = discriminator(fake_pokemon)\n",
    "    labels = torch.zeros(fake_pokemon.size(0), 1, device=DEVICE) \n",
    "    loss = torch.nn.functional.binary_cross_entropy(discriminator_predictions, labels)\n",
    "    \n",
    "    loss.backward()\n",
    "    optimizer.step()\n",
    "    \n",
    "    return loss.item()\n"
   ]
  },
  {
   "cell_type": "code",
   "execution_count": 9,
   "metadata": {},
   "outputs": [],
   "source": [
    "import os\r\n",
    "\r\n",
    "def save_results(epoch, seed, generator, display=False):\r\n",
    "    generated = generator(seed)\r\n",
    "    images = [generated[i].detach() for i in range(len(generated))]\r\n",
    "    concatenated_images = np.concatenate(images, axis=2)\r\n",
    "    show(concatenated_images, save=True, path='progression/{}.png'.format(epoch))\r\n",
    "\r\n",
    "\r\n",
    "def train(epochs, learning_rate, discriminator, generator, reference_seed, start_epoch=0):\r\n",
    "    # Track losses and scores\r\n",
    "    disc_losses = []\r\n",
    "    disc_scores = []\r\n",
    "    gen_losses = []\r\n",
    "    gen_scores = []\r\n",
    "    \r\n",
    "    # Create the optimizers\r\n",
    "    disc_optimizer = torch.optim.Adam(discriminator.parameters(), lr=learning_rate, betas=(0.5, 0.9))\r\n",
    "    gen_optimizer = torch.optim.Adam(generator.parameters(), lr=learning_rate, betas=(0.5, 0.9))\r\n",
    "    \r\n",
    "    # Run the loop\r\n",
    "    for epoch in range(start_epoch, epochs):\r\n",
    "        # Go through each image\r\n",
    "        for batch, (real_images, _) in enumerate(dataloader):\r\n",
    "            # Train the discriminator\r\n",
    "            disc_loss, real_score, gen_score = train_discriminator(discriminator, generator, real_images, disc_optimizer)\r\n",
    "\r\n",
    "            # Train the generator\r\n",
    "            gen_loss = train_generator(generator, discriminator, gen_optimizer)\r\n",
    "        \r\n",
    "        # Collect results\r\n",
    "        disc_losses.append(disc_loss)\r\n",
    "        disc_scores.append(real_score)\r\n",
    "        gen_losses.append(gen_loss)\r\n",
    "        gen_scores.append(gen_score)\r\n",
    "        \r\n",
    "        # Print the losses and scores\r\n",
    "        print(\"Epoch [{}/{}], gen_loss: {:.4f}, disc_loss: {:.4f}, real_score: {:.4f}, gen_score: {:.4f}\".format(\r\n",
    "            epoch, epochs, gen_loss, disc_loss, real_score, gen_score))\r\n",
    "        \r\n",
    "        # Save model\r\n",
    "        if epoch % 10 == 0:\r\n",
    "            torch.save(discriminator.state_dict(), 'models/discriminator.pth')\r\n",
    "            torch.save(generator.state_dict(), 'models/generator.pth')\r\n",
    "        # Save the images and show the progress\r\n",
    "        save_results(epoch=epoch, seed=reference_seed, generator=generator, display=True)\r\n",
    "    \r\n",
    "    # Return stats\r\n",
    "    return disc_losses, disc_scores, gen_losses, gen_scores\r\n"
   ]
  },
  {
   "cell_type": "code",
   "execution_count": 14,
   "metadata": {},
   "outputs": [
    {
     "name": "stdout",
     "output_type": "stream",
     "text": [
      "Epoch [0/3], gen_loss: 5.9962, disc_loss: 1.1730, real_score: 0.0003, gen_score: 0.7429\n",
      "Epoch [1/3], gen_loss: 3.3530, disc_loss: 0.4161, real_score: 0.0310, gen_score: 0.9457\n",
      "Epoch [2/3], gen_loss: 2.8616, disc_loss: 0.3640, real_score: 0.0544, gen_score: 0.9500\n"
     ]
    },
    {
     "data": {
      "text/plain": [
       "([1.173016905784607, 0.41612815856933594, 0.3640170097351074],\n",
       " [0.0002803262905217707, 0.030995260924100876, 0.0544341541826725],\n",
       " [5.996187686920166, 3.353036642074585, 2.8615822792053223],\n",
       " [0.7429112792015076, 0.9457259178161621, 0.950036346912384])"
      ]
     },
     "execution_count": 14,
     "metadata": {},
     "output_type": "execute_result"
    },
    {
     "data": {
      "image/png": "[encoded data removed]",
      "text/plain": [
       "<Figure size 432x288 with 1 Axes>"
      ]
     },
     "metadata": {
      "needs_background": "light"
     },
     "output_type": "display_data"
    }
   ],
   "source": [
    "# Use this for new model training with intel gpu\r\n",
    "\r\n",
    "DEVICE = 'cpu'\r\n",
    "discriminator = Discriminator().to(DEVICE)\r\n",
    "generator = Generator().to(DEVICE)\r\n",
    "train(epochs=3, \r\n",
    "learning_rate=0.01, \r\n",
    "discriminator=discriminator, \r\n",
    "generator=generator, \r\n",
    "reference_seed=torch.randn(8, SEED_SIZE, 1, 1, device=DEVICE),\r\n",
    "start_epoch=0)"
   ]
  },
  {
   "cell_type": "code",
   "execution_count": null,
   "metadata": {
    "tags": [
     "outputPrepend"
    ]
   },
   "outputs": [],
   "source": [
    "# Use this to make use of previous model and continue training\r\n",
    "\r\n",
    "discriminator = Discriminator().to(DEVICE)\r\n",
    "generator = Generator().to(DEVICE)\r\n",
    "discriminator.load_state_dict(torch.load('models/discriminator.pth'))\r\n",
    "generator.load_state_dict(torch.load('models/generator.pth'))\r\n",
    "\r\n",
    "train(epochs=300, \r\n",
    "learning_rate=0.01, \r\n",
    "discriminator=discriminator, \r\n",
    "generator=generator, \r\n",
    "reference_seed=torch.randn(8, SEED_SIZE, 1, 1, device=DEVICE),\r\n",
    "start_epoch=21)"
   ]
  },
  {
   "cell_type": "code",
   "execution_count": null,
   "metadata": {},
   "outputs": [],
   "source": []
  }
 ],
 "metadata": {
  "interpreter": {
   "hash": "5704e1215c2bcb375bf7c5a689a52043377281531a9e7548dac3f1db99abf580"
  },
  "kernelspec": {
   "display_name": "Python 3.9.5 64-bit",
   "name": "python3"
  },
  "language_info": {
   "codemirror_mode": {
    "name": "ipython",
    "version": 3
   },
   "file_extension": ".py",
   "mimetype": "text/x-python",
   "name": "python",
   "nbconvert_exporter": "python",
   "pygments_lexer": "ipython3",
   "version": "3.9.5"
  },
  "orig_nbformat": 4
 },
 "nbformat": 4,
 "nbformat_minor": 2
}